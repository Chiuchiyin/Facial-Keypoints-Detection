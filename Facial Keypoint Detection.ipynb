{
 "cells": [
  {
   "cell_type": "markdown",
   "id": "15bb1ac9",
   "metadata": {},
   "source": [
    "# Final Project for DTSA-5511\n",
    "Kevin Juandi <br>\n",
    "https://github.com/Chiuchiyin/Facial-Keypoints-Detection\n",
    "\n",
    "In this project I will be working through the [Facial Kepoints Detection Kaggle Competition](https://www.kaggle.com/competitions/facial-keypoints-detection/overview) and build a convolutional nueral network (CNN) to perform facial recognition. I chose this project because I am very interested in computer vision so the more exposure I get to various aspects of computer vision the better. In this project, I will use a supervised deep learning model to identify key features in faces. The benefit of working through a Kaggle competition is the ability to (1) learn from others who have submitted open-source code to the competition, and (2) get immediate feedback from Kaggle as to the performance of my model. \n",
    "\n",
    "Here is the general working plan:\n",
    "\n",
    "1) Download, Import, and Inspect the data\n",
    "\n",
    "2) Clean the data\n",
    "\n",
    "3) Perform EDA\n",
    "\n",
    "4) Build an initial CNN, evaluate it against validation\n",
    "\n",
    "5) Perform hyper parameter optimization to improve results\n",
    "\n",
    "6) Submit best (by validation) CNN predictions to Kaggle\n",
    "\n",
    "7) Debrief\n",
    "\n",
    "Before running this notebook, please ensure that you have all the necessary libraries installed. Also please use a kernel with a GPU enabled, otherwise the training time will be overwhelming. Thank you for your time, and I hope you enjoy my project.\n",
    "\n",
    "## Loading dependancies"
   ]
  },
  {
   "cell_type": "code",
   "execution_count": 49,
   "id": "5c40757e",
   "metadata": {},
   "outputs": [
    {
     "data": {
      "text/plain": [
       "'3.11.5 (main, Sep 11 2023, 13:54:46) [GCC 11.2.0]'"
      ]
     },
     "execution_count": 49,
     "metadata": {},
     "output_type": "execute_result"
    }
   ],
   "source": [
    "%matplotlib inline\n",
    "import os\n",
    "import pandas as pd\n",
    "import numpy as np\n",
    "import matplotlib.pyplot as plt\n",
    "import tensorflow as tf\n",
    "from keras.layers import Conv2D, MaxPooling2D, BatchNormalization, Dense, Flatten, Dropout\n",
    "from keras.models import Sequential\n",
    "from keras.layers import LeakyReLU\n",
    "import time\n",
    "import warnings\n",
    "warnings.simplefilter(action = 'ignore', category = FutureWarning)\n",
    "warnings.simplefilter(action = 'ignore', category = Warning)\n",
    "import sys\n",
    "import shutil\n",
    "sys.version"
   ]
  },
  {
   "cell_type": "code",
   "execution_count": 39,
   "id": "3ecfb963",
   "metadata": {},
   "outputs": [
    {
     "data": {
      "text/plain": [
       "'2.15.0'"
      ]
     },
     "execution_count": 39,
     "metadata": {},
     "output_type": "execute_result"
    }
   ],
   "source": [
    "tf.__version__"
   ]
  },
  {
   "cell_type": "code",
   "execution_count": 40,
   "id": "e31d1e49",
   "metadata": {},
   "outputs": [
    {
     "data": {
      "text/plain": [
       "[PhysicalDevice(name='/physical_device:GPU:0', device_type='GPU')]"
      ]
     },
     "execution_count": 40,
     "metadata": {},
     "output_type": "execute_result"
    }
   ],
   "source": [
    "tf.config.list_physical_devices('GPU')"
   ]
  },
  {
   "cell_type": "code",
   "execution_count": 41,
   "id": "c1f49735",
   "metadata": {},
   "outputs": [
    {
     "name": "stdout",
     "output_type": "stream",
     "text": [
      "GPU is available.\n",
      "Sun Feb 18 23:48:50 2024       \n",
      "+-----------------------------------------------------------------------------------------+\n",
      "| NVIDIA-SMI 550.40.06              Driver Version: 551.23         CUDA Version: 12.4     |\n",
      "|-----------------------------------------+------------------------+----------------------+\n",
      "| GPU  Name                 Persistence-M | Bus-Id          Disp.A | Volatile Uncorr. ECC |\n",
      "| Fan  Temp   Perf          Pwr:Usage/Cap |           Memory-Usage | GPU-Util  Compute M. |\n",
      "|                                         |                        |               MIG M. |\n",
      "|=========================================+========================+======================|\n",
      "|   0  NVIDIA GeForce RTX 3070 ...    On  |   00000000:01:00.0 Off |                  N/A |\n",
      "| N/A   38C    P8             12W /  115W |     448MiB /   8192MiB |      3%      Default |\n",
      "|                                         |                        |                  N/A |\n",
      "+-----------------------------------------+------------------------+----------------------+\n",
      "                                                                                         \n",
      "+-----------------------------------------------------------------------------------------+\n",
      "| Processes:                                                                              |\n",
      "|  GPU   GI   CI        PID   Type   Process name                              GPU Memory |\n",
      "|        ID   ID                                                               Usage      |\n",
      "|=========================================================================================|\n",
      "|    0   N/A  N/A       507      C   /python3.11                                 N/A      |\n",
      "|    0   N/A  N/A       952      C   /python3.11                                 N/A      |\n",
      "+-----------------------------------------------------------------------------------------+\n",
      "Number of replicas: 1\n"
     ]
    },
    {
     "name": "stderr",
     "output_type": "stream",
     "text": [
      "2024-02-18 23:48:50.654635: I external/local_xla/xla/stream_executor/cuda/cuda_executor.cc:887] could not open file to read NUMA node: /sys/bus/pci/devices/0000:01:00.0/numa_node\n",
      "Your kernel may have been built without NUMA support.\n",
      "2024-02-18 23:48:50.654751: I external/local_xla/xla/stream_executor/cuda/cuda_executor.cc:887] could not open file to read NUMA node: /sys/bus/pci/devices/0000:01:00.0/numa_node\n",
      "Your kernel may have been built without NUMA support.\n",
      "2024-02-18 23:48:50.654792: I external/local_xla/xla/stream_executor/cuda/cuda_executor.cc:887] could not open file to read NUMA node: /sys/bus/pci/devices/0000:01:00.0/numa_node\n",
      "Your kernel may have been built without NUMA support.\n",
      "2024-02-18 23:48:50.655043: I external/local_xla/xla/stream_executor/cuda/cuda_executor.cc:887] could not open file to read NUMA node: /sys/bus/pci/devices/0000:01:00.0/numa_node\n",
      "Your kernel may have been built without NUMA support.\n",
      "2024-02-18 23:48:50.655057: I tensorflow/core/common_runtime/gpu/gpu_device.cc:2022] Could not identify NUMA node of platform GPU id 0, defaulting to 0.  Your kernel may not have been built with NUMA support.\n",
      "2024-02-18 23:48:50.655107: I external/local_xla/xla/stream_executor/cuda/cuda_executor.cc:887] could not open file to read NUMA node: /sys/bus/pci/devices/0000:01:00.0/numa_node\n",
      "Your kernel may have been built without NUMA support.\n",
      "2024-02-18 23:48:50.655123: I tensorflow/core/common_runtime/gpu/gpu_device.cc:1929] Created device /device:GPU:0 with 5582 MB memory:  -> device: 0, name: NVIDIA GeForce RTX 3070 Laptop GPU, pci bus id: 0000:01:00.0, compute capability: 8.6\n"
     ]
    }
   ],
   "source": [
    "try:\n",
    "    tpu = tf.distribute.cluster_resolver.TPUClusterResolver()\n",
    "    print('Device:', tpu.master())\n",
    "    tf.config.experimental_connect_to_cluster(tpu)\n",
    "    tf.tpu.experimental.initialize_tpu_system(tpu)\n",
    "    strategy = tf.distribute.experimental.TPUStrategy(tpu)\n",
    "except:\n",
    "    strategy = tf.distribute.get_strategy()\n",
    "    if tf.test.is_gpu_available():\n",
    "        print(\"GPU is available.\")\n",
    "        !nvidia-smi\n",
    "    else:\n",
    "        print(\"Training on CPU.\")\n",
    "\n",
    "print('Number of replicas:', strategy.num_replicas_in_sync)\n",
    "\n",
    "AUTOTUNE = tf.data.experimental.AUTOTUNE"
   ]
  },
  {
   "cell_type": "markdown",
   "id": "87bb71a3",
   "metadata": {},
   "source": [
    "## Importing the data and data cleaning"
   ]
  },
  {
   "cell_type": "code",
   "execution_count": 43,
   "id": "bbe33aee",
   "metadata": {},
   "outputs": [
    {
     "data": {
      "text/plain": [
       "'/mnt/e/Facial-Keypoints-Detection'"
      ]
     },
     "execution_count": 43,
     "metadata": {},
     "output_type": "execute_result"
    }
   ],
   "source": [
    "os.getcwd()"
   ]
  },
  {
   "cell_type": "code",
   "execution_count": 48,
   "id": "c8f36825",
   "metadata": {},
   "outputs": [
    {
     "name": "stdout",
     "output_type": "stream",
     "text": [
      "facial-keypoints-detection.zip: Skipping, found more recently modified local copy (use --force to force download)\r\n"
     ]
    }
   ],
   "source": [
    "!kaggle competitions download -c facial-keypoints-detection"
   ]
  },
  {
   "cell_type": "code",
   "execution_count": 52,
   "id": "29e577c5",
   "metadata": {},
   "outputs": [
    {
     "name": "stdout",
     "output_type": "stream",
     "text": [
      "Archive file unpacked successfully.\n"
     ]
    }
   ],
   "source": [
    "#unzip the zip file\n",
    "shutil.unpack_archive(\"facial-keypoints-detection.zip\", \"./data\", \"zip\") \n",
    "print(\"Archive file unpacked successfully.\")"
   ]
  },
  {
   "cell_type": "code",
   "execution_count": 53,
   "id": "6dcf2771",
   "metadata": {},
   "outputs": [
    {
     "data": {
      "text/plain": [
       "['IdLookupTable.csv', 'SampleSubmission.csv', 'test.zip', 'training.zip']"
      ]
     },
     "execution_count": 53,
     "metadata": {},
     "output_type": "execute_result"
    }
   ],
   "source": [
    "#Confirm contents of \"./data\"\n",
    "os.listdir(\"./data\")"
   ]
  },
  {
   "cell_type": "code",
   "execution_count": 56,
   "id": "262b9994",
   "metadata": {},
   "outputs": [
    {
     "ename": "FileNotFoundError",
     "evalue": "[Errno 2] No such file or directory: './data'",
     "output_type": "error",
     "traceback": [
      "\u001b[0;31m---------------------------------------------------------------------------\u001b[0m",
      "\u001b[0;31mFileNotFoundError\u001b[0m                         Traceback (most recent call last)",
      "Cell \u001b[0;32mIn[56], line 2\u001b[0m\n\u001b[1;32m      1\u001b[0m \u001b[38;5;66;03m#unzip the zip file\u001b[39;00m\n\u001b[0;32m----> 2\u001b[0m os\u001b[38;5;241m.\u001b[39mchdir(\u001b[38;5;124m\"\u001b[39m\u001b[38;5;124m./data\u001b[39m\u001b[38;5;124m\"\u001b[39m)\n\u001b[1;32m      3\u001b[0m shutil\u001b[38;5;241m.\u001b[39munpack_archive(\u001b[38;5;124m\"\u001b[39m\u001b[38;5;124mtraining.zip\u001b[39m\u001b[38;5;124m\"\u001b[39m, \u001b[38;5;124m\"\u001b[39m\u001b[38;5;124m./\u001b[39m\u001b[38;5;124m\"\u001b[39m, \u001b[38;5;124m\"\u001b[39m\u001b[38;5;124mzip\u001b[39m\u001b[38;5;124m\"\u001b[39m)\n\u001b[1;32m      4\u001b[0m shutil\u001b[38;5;241m.\u001b[39munpack_archive(\u001b[38;5;124m\"\u001b[39m\u001b[38;5;124mtest.zip\u001b[39m\u001b[38;5;124m\"\u001b[39m, \u001b[38;5;124m\"\u001b[39m\u001b[38;5;124m./\u001b[39m\u001b[38;5;124m\"\u001b[39m, \u001b[38;5;124m\"\u001b[39m\u001b[38;5;124mzip\u001b[39m\u001b[38;5;124m\"\u001b[39m)\n",
      "\u001b[0;31mFileNotFoundError\u001b[0m: [Errno 2] No such file or directory: './data'"
     ]
    }
   ],
   "source": [
    "#unzip the zip file\n",
    "os.chdir(\"./data\")\n",
    "shutil.unpack_archive(\"training.zip\", \"./\", \"zip\")\n",
    "shutil.unpack_archive(\"test.zip\", \"./\", \"zip\")\n",
    "print(\"Archive file unpacked successfully.\")"
   ]
  },
  {
   "cell_type": "code",
   "execution_count": null,
   "id": "71541cb2",
   "metadata": {},
   "outputs": [],
   "source": []
  }
 ],
 "metadata": {
  "kernelspec": {
   "display_name": "Python 3 (ipykernel)",
   "language": "python",
   "name": "python3"
  },
  "language_info": {
   "codemirror_mode": {
    "name": "ipython",
    "version": 3
   },
   "file_extension": ".py",
   "mimetype": "text/x-python",
   "name": "python",
   "nbconvert_exporter": "python",
   "pygments_lexer": "ipython3",
   "version": "3.11.5"
  }
 },
 "nbformat": 4,
 "nbformat_minor": 5
}
